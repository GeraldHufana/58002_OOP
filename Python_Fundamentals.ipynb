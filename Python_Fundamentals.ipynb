{
  "nbformat": 4,
  "nbformat_minor": 0,
  "metadata": {
    "colab": {
      "provenance": [],
      "authorship_tag": "ABX9TyNbNusfCSN1ShQERP/hdyWt",
      "include_colab_link": true
    },
    "kernelspec": {
      "name": "python3",
      "display_name": "Python 3"
    },
    "language_info": {
      "name": "python"
    }
  },
  "cells": [
    {
      "cell_type": "markdown",
      "metadata": {
        "id": "view-in-github",
        "colab_type": "text"
      },
      "source": [
        "<a href=\"https://colab.research.google.com/github/GeraldHufana/58002_OOP/blob/main/Python_Fundamentals.ipynb\" target=\"_parent\"><img src=\"https://colab.research.google.com/assets/colab-badge.svg\" alt=\"Open In Colab\"/></a>"
      ]
    },
    {
      "cell_type": "markdown",
      "source": [
        "Python Indentation"
      ],
      "metadata": {
        "id": "nMdPBdiJxfjb"
      }
    },
    {
      "cell_type": "code",
      "source": [
        "if 5>2:\n",
        "  print(\"Five is greater than two!\")"
      ],
      "metadata": {
        "colab": {
          "base_uri": "https://localhost:8080/"
        },
        "id": "mOKvfYu9xoA8",
        "outputId": "358d5aac-2915-4dd2-99c3-be7e966378c1"
      },
      "execution_count": 3,
      "outputs": [
        {
          "output_type": "stream",
          "name": "stdout",
          "text": [
            "Five is greater than two!\n"
          ]
        }
      ]
    },
    {
      "cell_type": "markdown",
      "source": [
        "Python commments\n"
      ],
      "metadata": {
        "id": "L_VBPSMbyP2K"
      }
    },
    {
      "cell_type": "code",
      "source": [
        "#This is the commonent \n",
        "\n",
        "print(\"Hello World\")\n"
      ],
      "metadata": {
        "colab": {
          "base_uri": "https://localhost:8080/"
        },
        "id": "_cDaXFBTyXoJ",
        "outputId": "4a70feab-e3e7-460e-ba9c-0e5749bdb9e1"
      },
      "execution_count": 4,
      "outputs": [
        {
          "output_type": "stream",
          "name": "stdout",
          "text": [
            "Hello World\n"
          ]
        }
      ]
    },
    {
      "cell_type": "markdown",
      "source": [
        "Naming variable"
      ],
      "metadata": {
        "id": "oQm7n9kzyqFp"
      }
    },
    {
      "cell_type": "code",
      "source": [
        "#Single variable with a single value\n",
        "\n",
        "x = 1\n",
        "y = 2\n",
        "print(x)\n",
        "print(y)"
      ],
      "metadata": {
        "colab": {
          "base_uri": "https://localhost:8080/"
        },
        "id": "D6uO7a5bysk5",
        "outputId": "d1cdbcd8-f25d-41a0-bc6f-153f51e34051"
      },
      "execution_count": 8,
      "outputs": [
        {
          "output_type": "stream",
          "name": "stdout",
          "text": [
            "1\n",
            "2\n"
          ]
        }
      ]
    },
    {
      "cell_type": "markdown",
      "source": [],
      "metadata": {
        "id": "hCX1_yM9zhXK"
      }
    },
    {
      "cell_type": "code",
      "source": [
        "#Multiple variable with a single value\n",
        "\n",
        "a = b = c = \"Hufana\"\n",
        "print(a)\n",
        "print(b)\n",
        "print(c)\n"
      ],
      "metadata": {
        "colab": {
          "base_uri": "https://localhost:8080/"
        },
        "id": "L0MGZZXozpYm",
        "outputId": "42fa037e-f715-4ad1-ee59-84b3a2b6945e"
      },
      "execution_count": 11,
      "outputs": [
        {
          "output_type": "stream",
          "name": "stdout",
          "text": [
            "Hufana\n",
            "Hufana\n",
            "Hufana\n"
          ]
        }
      ]
    },
    {
      "cell_type": "code",
      "source": [
        "#Multiple variable with a multiple value\n",
        "e, f, g,=1,2,3 \n",
        "print(f)\n",
        "print(g)"
      ],
      "metadata": {
        "colab": {
          "base_uri": "https://localhost:8080/"
        },
        "id": "kJT-qxPf0LX5",
        "outputId": "b83998b9-ec8d-4dd9-f273-45a57a951e92"
      },
      "execution_count": 24,
      "outputs": [
        {
          "output_type": "stream",
          "name": "stdout",
          "text": [
            "2\n",
            "3\n"
          ]
        }
      ]
    },
    {
      "cell_type": "code",
      "source": [
        "#single or double\n",
        "y=\"sally\"\n",
        "v=\"sally\""
      ],
      "metadata": {
        "id": "1mbO1UFc1IsB"
      },
      "execution_count": 25,
      "outputs": []
    },
    {
      "cell_type": "markdown",
      "source": [
        "casting"
      ],
      "metadata": {
        "id": "5lsHAewQ1lZQ"
      }
    },
    {
      "cell_type": "code",
      "source": [
        "#casting\n",
        "p = int(5)\n",
        "p\n"
      ],
      "metadata": {
        "colab": {
          "base_uri": "https://localhost:8080/"
        },
        "id": "li7Z7H3c1nL4",
        "outputId": "c53c8aee-d197-4e5f-8be0-2a0c8537621f"
      },
      "execution_count": 26,
      "outputs": [
        {
          "output_type": "execute_result",
          "data": {
            "text/plain": [
              "5"
            ]
          },
          "metadata": {},
          "execution_count": 26
        }
      ]
    },
    {
      "cell_type": "code",
      "source": [
        "f = \"ana\"\n",
        "g = 4.56\n",
        "print(type(f))\n",
        "print(type(g))\n",
        "\n"
      ],
      "metadata": {
        "colab": {
          "base_uri": "https://localhost:8080/"
        },
        "id": "aRgyyAEK1-ZA",
        "outputId": "1281c5d7-d226-4d0c-9f92-ce91c31ca715"
      },
      "execution_count": 28,
      "outputs": [
        {
          "output_type": "stream",
          "name": "stdout",
          "text": [
            "<class 'str'>\n",
            "<class 'float'>\n"
          ]
        }
      ]
    },
    {
      "cell_type": "markdown",
      "source": [
        "case sensetive"
      ],
      "metadata": {
        "id": "mPloNml42new"
      }
    },
    {
      "cell_type": "code",
      "source": [
        "a = \"4\"\n",
        "A = \"Sally\"\n",
        "x = \"enjoying\"\n",
        "j = \"Phyton programming is \"\n",
        "print(a)\n",
        "print(A)\n",
        "print(\"Python programming is \"+\" \"+ x)\n",
        "print(j+x)"
      ],
      "metadata": {
        "colab": {
          "base_uri": "https://localhost:8080/"
        },
        "id": "eGmruAoK2qG9",
        "outputId": "6855ade9-4ec1-42a0-b6ee-0c8b67ca1dec"
      },
      "execution_count": 37,
      "outputs": [
        {
          "output_type": "stream",
          "name": "stdout",
          "text": [
            "4\n",
            "Sally\n",
            "Python programming is  enjoying\n",
            "Phyton programming is enjoying\n"
          ]
        }
      ]
    }
  ]
}