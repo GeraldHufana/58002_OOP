{
  "nbformat": 4,
  "nbformat_minor": 0,
  "metadata": {
    "colab": {
      "provenance": [],
      "authorship_tag": "ABX9TyOgoSTbm2ncOOLPQ8maqyJN",
      "include_colab_link": true
    },
    "kernelspec": {
      "name": "python3",
      "display_name": "Python 3"
    },
    "language_info": {
      "name": "python"
    }
  },
  "cells": [
    {
      "cell_type": "markdown",
      "metadata": {
        "id": "view-in-github",
        "colab_type": "text"
      },
      "source": [
        "<a href=\"https://colab.research.google.com/github/GeraldHufana/58002_OOP/blob/main/Midtermquiz1.ipynb\" target=\"_parent\"><img src=\"https://colab.research.google.com/assets/colab-badge.svg\" alt=\"Open In Colab\"/></a>"
      ]
    },
    {
      "cell_type": "code",
      "execution_count": null,
      "metadata": {
        "id": "f32-4yZSQHOd"
      },
      "outputs": [],
      "source": [
        "class ConversionOfTemperature:\n",
        "  def __init__(self, temp):\n",
        "    self._ConversionOfTemperature = temp\n",
        "        \n",
        "class Fahrenheit_to_celsius(ConversionOfTemperature):\n",
        "  def conversion(self):\n",
        "    return self.__ConversionOfTemperature_temp(5/9) + 32\n",
        "class Kelvin_to_celsius(ConversionOfTemperature):\n",
        "  def conversion(self):\n",
        "    return self.__ConversionOfTemperature_temp + 273.15\n",
        "class celsius_to_Fahrenheit(ConversionOfTemperature):\n",
        "  def conversion(self):\n",
        "    return self.__ConversionOfTemperature_temp (-32) * 5/9\n",
        "class kelvin_to_Fahrenheit(ConversionOfTemperature):\n",
        "  def conversion(self):\n",
        "    return self.__ConversionOfTemperature_temp(459.67)/1.8\n",
        "class celsius_to_kelvin(ConversionOfTemperature):\n",
        "  def conversion(self):\n",
        "    return self.__ConversionOfTemperature_temp -273.15\n",
        "class Fahrenheit_to_kelvin(ConversionOfTemperature):\n",
        "  def conversion(self):\n",
        "    return self.__ConversionOfTemperature_temp(1.8)-459.67\n",
        "\n",
        "\n",
        "celsiusTemperature = float(input(\"enter the temperature in celsius:\"))\n",
        "converter = celsius_to_kelvin(celsiusTemperature)\n",
        "print(str(converter.conversion()) + \" Kelvin\")\n",
        "convert = celsius_to_Fahrenheit(celsiusTemperature)\n",
        "print(str(converter.conversion()) + \"Fahrenheit\")\n",
        "\n",
        "FahrenheitTemperature = float(input(\"enter the temperature in Fahrenheit: \"))\n",
        "converter = Fahrenheit_to_celsius(FahrenheitTemperature)\n",
        "print(str(converter.conversion()) + \" Celsius\")\n",
        "convert = Fahrenheit_to_kelvin(FahrenheitTemperature)\n",
        "print(str(converter.conversion()) + \" Kelvin\")\n",
        "\n",
        "KelvinTemperature = float(input(\"enter the temperature in Kelvin: \"))\n",
        "converter = kelvin_to_celsius(KelvinTemperature)\n",
        "print(str(converter.conversion()) + \" Celsius\")\n",
        "converter = kelvin_to_Fahrenheit(KelvinTemperature)\n",
        "print(str(converter.conversion()) + \" Fahrenheit\")"
      ]
    }
  ]
}