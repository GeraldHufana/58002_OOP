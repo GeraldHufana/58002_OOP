{
  "nbformat": 4,
  "nbformat_minor": 0,
  "metadata": {
    "colab": {
      "provenance": [],
      "authorship_tag": "ABX9TyMe7w7s185T3i1+rnYP4HYD",
      "include_colab_link": true
    },
    "kernelspec": {
      "name": "python3",
      "display_name": "Python 3"
    },
    "language_info": {
      "name": "python"
    }
  },
  "cells": [
    {
      "cell_type": "markdown",
      "metadata": {
        "id": "view-in-github",
        "colab_type": "text"
      },
      "source": [
        "<a href=\"https://colab.research.google.com/github/GeraldHufana/58002_OOP/blob/main/LAB_1.ipynb\" target=\"_parent\"><img src=\"https://colab.research.google.com/assets/colab-badge.svg\" alt=\"Open In Colab\"/></a>"
      ]
    },
    {
      "cell_type": "code",
      "source": [
        "n = 20\n",
        "total_number= 0\n",
        "sum = 0\n",
        "average = 0\n",
        "\n",
        "while n>=0:\n",
        "  sum += n\n",
        "  total_number+= 1\n",
        "  n-= 1\n",
        "\n",
        "if n<0:\n",
        "  average = sum/total_number\n",
        "  print(\"sum\")\n",
        "  print(sum)\n",
        "  print(\"total_number\")\n",
        "  print(total_number)\n",
        "  print(\"average\")\n",
        "  print(average)\n",
        "\n",
        "  exit()\n",
        "\n",
        "\n",
        "\n",
        "  \n",
        "\n",
        "\n"
      ],
      "metadata": {
        "colab": {
          "base_uri": "https://localhost:8080/"
        },
        "id": "xIn3QA45wPYR",
        "outputId": "f05cb9ce-3d16-4001-abc4-ae76d6ab8586"
      },
      "execution_count": 4,
      "outputs": [
        {
          "output_type": "stream",
          "name": "stdout",
          "text": [
            "sum\n",
            "210\n",
            "total_number\n",
            "21\n",
            "average\n",
            "10.0\n"
          ]
        }
      ]
    },
    {
      "cell_type": "code",
      "source": [],
      "metadata": {
        "id": "zDF7SaMhy1do"
      },
      "execution_count": null,
      "outputs": []
    }
  ]
}