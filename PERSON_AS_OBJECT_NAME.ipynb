{
  "nbformat": 4,
  "nbformat_minor": 0,
  "metadata": {
    "colab": {
      "provenance": [],
      "authorship_tag": "ABX9TyO+HaKwcmKs8bvSnRjEGU0K",
      "include_colab_link": true
    },
    "kernelspec": {
      "name": "python3",
      "display_name": "Python 3"
    },
    "language_info": {
      "name": "python"
    }
  },
  "cells": [
    {
      "cell_type": "markdown",
      "metadata": {
        "id": "view-in-github",
        "colab_type": "text"
      },
      "source": [
        "<a href=\"https://colab.research.google.com/github/GeraldHufana/58002_OOP/blob/main/PERSON_AS_OBJECT_NAME.ipynb\" target=\"_parent\"><img src=\"https://colab.research.google.com/assets/colab-badge.svg\" alt=\"Open In Colab\"/></a>"
      ]
    },
    {
      "cell_type": "code",
      "execution_count": 10,
      "metadata": {
        "colab": {
          "base_uri": "https://localhost:8080/"
        },
        "id": "yXEAxt-PxeR7",
        "outputId": "a994edd7-239c-4683-9d89-c57306ee54ea"
      },
      "outputs": [
        {
          "output_type": "stream",
          "name": "stdout",
          "text": [
            "4\n"
          ]
        }
      ],
      "source": [
        "# Creation of class\n",
        "\n",
        "class myClass:    #name of class\n",
        "  y = 4           #property name\n",
        "\n",
        "p1 = myClass()    #create an object named p1\n",
        "print(p1.y)       #print the value of y\n",
        "\n"
      ]
    },
    {
      "cell_type": "code",
      "source": [
        "class myClass:\n",
        "  pass "
      ],
      "metadata": {
        "id": "iBzXSYASySmH"
      },
      "execution_count": 11,
      "outputs": []
    },
    {
      "cell_type": "code",
      "source": [
        "#creation of method \n",
        "class Persons:\n",
        "  def __init__(self,name,age):\n",
        "    self.name = name\n",
        "    self.age = age\n",
        "\n",
        "  def myfunction(self):\n",
        "    print(\"hello, my name is\", self.name)\n",
        "\n",
        "    student = Persons(\"hufana\")\n",
        "    student.myfunction()\n",
        "  \n"
      ],
      "metadata": {
        "id": "b2VetIZkye_2"
      },
      "execution_count": 28,
      "outputs": []
    },
    {
      "cell_type": "code",
      "source": [
        "class Shapes:\n",
        "  def __init__(self,side):\n",
        "    self.side = side\n",
        "\n",
        "  def area(self):\n",
        "     return self.side *self.side\n",
        "  \n",
        "  def display(self):\n",
        "    print(\"The area of the square is\",self.area())\n",
        "\n",
        "square = Shapes(5)\n",
        "square.display()"
      ],
      "metadata": {
        "colab": {
          "base_uri": "https://localhost:8080/"
        },
        "id": "WtikqqNq3qt0",
        "outputId": "28d13161-9930-443e-f295-e35473239c94"
      },
      "execution_count": 29,
      "outputs": [
        {
          "output_type": "stream",
          "name": "stdout",
          "text": [
            "The area of the square is 25\n"
          ]
        }
      ]
    },
    {
      "cell_type": "code",
      "source": [
        "class Shape:\n",
        "  def __init__(self,side1,side2):\n",
        "    self.side1 = side1\n",
        "    self.side2 = side2\n",
        "\n",
        "    def display_square(self):\n",
        "      print(\"the area of square is\",self.area_square())\n",
        "    \n",
        "    def display_rectangle(self):\n",
        "      print(\"the area of rectangle is\",self.area_rectangle())\n",
        "\n",
        "class Square(Shape):\n",
        "  def area_square(self):\n",
        "    return self.side1 * self.side1\n",
        "    \n",
        "\n",
        "class Rectangle(Shape):\n",
        "  def area_reaction(self):\n",
        "    print(self.side1*self.side2)\n",
        "\n",
        "square = Square(4,4)\n",
        "\n",
        "rectangle = Rectangle(10,5)\n",
        "\n",
        "#print(square.area_square())\n",
        "#print(rectangle.area_rectangel())\n",
        "\n",
        "\n"
      ],
      "metadata": {
        "id": "Wwo1GcJQ6qiP"
      },
      "execution_count": 34,
      "outputs": []
    },
    {
      "cell_type": "code",
      "source": [
        "#PERSON AS OBJECT NAME\n",
        "class Persons:\n",
        "  def __init__(self,name,age,school):\n",
        "    self.name = name\n",
        "    self.age = age\n",
        "    self.school = school\n",
        "\n",
        "  def identity(self):\n",
        "    print(\"full name -\", self.name)\n",
        "    print(\"age -\",self.age)\n",
        "    print(\"school -\",self.school)\n",
        "\n",
        "person = Persons(\"Hufana, Gerald\",18,\"Adamson University\")\n",
        "person.identity()\n",
        "\n",
        "    "
      ],
      "metadata": {
        "colab": {
          "base_uri": "https://localhost:8080/"
        },
        "id": "M4WjHBqhABeV",
        "outputId": "2896129e-94ab-4f0d-c740-ddd05432d5d4"
      },
      "execution_count": 39,
      "outputs": [
        {
          "output_type": "stream",
          "name": "stdout",
          "text": [
            "full name - Hufana, Gerald\n",
            "age - 18\n",
            "school - Adamson University\n"
          ]
        }
      ]
    }
  ]
}