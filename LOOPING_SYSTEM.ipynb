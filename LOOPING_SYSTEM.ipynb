{
  "nbformat": 4,
  "nbformat_minor": 0,
  "metadata": {
    "colab": {
      "provenance": [],
      "authorship_tag": "ABX9TyNVfQ3oeU/YtTk08lX3W73L",
      "include_colab_link": true
    },
    "kernelspec": {
      "name": "python3",
      "display_name": "Python 3"
    },
    "language_info": {
      "name": "python"
    }
  },
  "cells": [
    {
      "cell_type": "markdown",
      "metadata": {
        "id": "view-in-github",
        "colab_type": "text"
      },
      "source": [
        "<a href=\"https://colab.research.google.com/github/GeraldHufana/58002_OOP/blob/main/LOOPING_SYSTEM.ipynb\" target=\"_parent\"><img src=\"https://colab.research.google.com/assets/colab-badge.svg\" alt=\"Open In Colab\"/></a>"
      ]
    },
    {
      "cell_type": "code",
      "execution_count": 18,
      "metadata": {
        "colab": {
          "base_uri": "https://localhost:8080/"
        },
        "id": "LCYZoHl3lJCL",
        "outputId": "a7c19794-8b07-4056-9dca-82261653d8be"
      },
      "outputs": [
        {
          "output_type": "stream",
          "name": "stdout",
          "text": [
            "Monday\n",
            "Tuesday\n",
            "Wednesday\n",
            "Thursday\n",
            "Friday\n",
            "Saturday\n",
            "Sunday\n"
          ]
        }
      ],
      "source": [
        "week = [\"Monday\",\"Tuesday\",\"Wednesday\",\"Thursday\",\"Friday\",\"Saturday\",\"Sunday\"]\n",
        "for x in week:  \n",
        "  print(x)\n",
        "if x == \"Saturday\":\n",
        "  \"break\""
      ]
    },
    {
      "cell_type": "code",
      "source": [
        "#break statement\n",
        "\n",
        "week = [\"Monday\",\"Tuesday\",\"Wednesday\",\"Thursday\",\"Friday\",\"Saturday\",\"Sunday\"] \n",
        "for x in week:\n",
        "  if x == \"Friday\":\n",
        "    break\n",
        "  print(x)\n"
      ],
      "metadata": {
        "colab": {
          "base_uri": "https://localhost:8080/"
        },
        "id": "lwLD6iHBod7Q",
        "outputId": "54f3085f-4a5b-401b-b361-073aa3bec037"
      },
      "execution_count": 20,
      "outputs": [
        {
          "output_type": "stream",
          "name": "stdout",
          "text": [
            "Monday\n",
            "Tuesday\n",
            "Wednesday\n",
            "Thursday\n"
          ]
        }
      ]
    },
    {
      "cell_type": "code",
      "source": [
        "#looping through the string\n",
        "\n",
        "for x in week:\n",
        "  if x == \"Thurday\":\n",
        "     print(x)\n",
        "     break\n",
        "  \n"
      ],
      "metadata": {
        "id": "SdK_sGmkpjUv"
      },
      "execution_count": 29,
      "outputs": []
    },
    {
      "cell_type": "code",
      "source": [
        "# range function\n",
        "\n",
        "for x in range (6):\n",
        "  print(x)\n",
        "\n",
        "for x in range(2,6):\n",
        "  print(x)"
      ],
      "metadata": {
        "colab": {
          "base_uri": "https://localhost:8080/"
        },
        "id": "ZiBrP1jbq1Um",
        "outputId": "53c46c9f-0f2e-4d2e-e9f9-1ef24c2409c0"
      },
      "execution_count": 30,
      "outputs": [
        {
          "output_type": "stream",
          "name": "stdout",
          "text": [
            "0\n",
            "1\n",
            "2\n",
            "3\n",
            "4\n",
            "5\n",
            "2\n",
            "3\n",
            "4\n",
            "5\n"
          ]
        }
      ]
    },
    {
      "cell_type": "code",
      "source": [
        "adjective = [\"red\", \"big\", \"tasty\"]\n",
        "fruits = [\"apple\", \"banana\", \"cherry\"]\n",
        "name = [\"amir\",\"amwell\",\"cedullo\"]\n",
        "for x in adjective:\n",
        " for y in fruits:\n",
        "   for v in name:\n",
        "    print(x,y,v)"
      ],
      "metadata": {
        "colab": {
          "base_uri": "https://localhost:8080/"
        },
        "id": "vc6rMzyqrbJP",
        "outputId": "dbeb273f-8458-46d6-9407-cc86b5ba186d"
      },
      "execution_count": 35,
      "outputs": [
        {
          "output_type": "stream",
          "name": "stdout",
          "text": [
            "red apple amir\n",
            "red apple amwell\n",
            "red apple cedullo\n",
            "red banana amir\n",
            "red banana amwell\n",
            "red banana cedullo\n",
            "red cherry amir\n",
            "red cherry amwell\n",
            "red cherry cedullo\n",
            "big apple amir\n",
            "big apple amwell\n",
            "big apple cedullo\n",
            "big banana amir\n",
            "big banana amwell\n",
            "big banana cedullo\n",
            "big cherry amir\n",
            "big cherry amwell\n",
            "big cherry cedullo\n",
            "tasty apple amir\n",
            "tasty apple amwell\n",
            "tasty apple cedullo\n",
            "tasty banana amir\n",
            "tasty banana amwell\n",
            "tasty banana cedullo\n",
            "tasty cherry amir\n",
            "tasty cherry amwell\n",
            "tasty cherry cedullo\n"
          ]
        }
      ]
    },
    {
      "cell_type": "code",
      "source": [
        "#the break statemen\n",
        "i = 1\n",
        "while i<10:\n",
        "   print(i)\n",
        "   i += 1 #i=i+1 Assingment operator\n",
        "  \n",
        "\n",
        "   \n",
        "   \n",
        "\n"
      ],
      "metadata": {
        "colab": {
          "base_uri": "https://localhost:8080/"
        },
        "id": "-VG6UUcdsYju",
        "outputId": "e3ed5386-68d5-42d3-cb36-49d05e13e043"
      },
      "execution_count": 75,
      "outputs": [
        {
          "output_type": "stream",
          "name": "stdout",
          "text": [
            "1\n",
            "2\n",
            "3\n",
            "4\n",
            "5\n",
            "6\n",
            "7\n",
            "8\n",
            "9\n"
          ]
        }
      ]
    },
    {
      "cell_type": "code",
      "source": [
        "#continue statement\n",
        "i = 1\n",
        "while i<6:\n",
        "  i += 1\n",
        "  if i==3:\n",
        "    continue\n",
        "    print(i)\n",
        "    \n",
        "    "
      ],
      "metadata": {
        "id": "GayuMyNVtzl3"
      },
      "execution_count": 77,
      "outputs": []
    },
    {
      "cell_type": "code",
      "source": [
        "Greeting = [\"hello\"]\n",
        "Name = [\"0\",\"1\",\"2\",\"3\",\"4\",\"5\",\"6\",\"7\",\"8\",\"9\",\"10\"]\n",
        "for x in Greeting:\n",
        "  for y in Name:\n",
        "    print(x,y)\n",
        "\n"
      ],
      "metadata": {
        "colab": {
          "base_uri": "https://localhost:8080/"
        },
        "id": "YYJL5QNyupet",
        "outputId": "54aa38ee-3c02-4ec9-8513-52cff4a1f4ca"
      },
      "execution_count": 58,
      "outputs": [
        {
          "output_type": "stream",
          "name": "stdout",
          "text": [
            "hello 0\n",
            "hello 1\n",
            "hello 2\n",
            "hello 3\n",
            "hello 4\n",
            "hello 5\n",
            "hello 6\n",
            "hello 7\n",
            "hello 8\n",
            "hello 9\n",
            "hello 10\n"
          ]
        }
      ]
    },
    {
      "cell_type": "code",
      "source": [
        "i = 3\n",
        "while i<10:\n",
        "  print(i)\n",
        "  i += 1"
      ],
      "metadata": {
        "colab": {
          "base_uri": "https://localhost:8080/"
        },
        "id": "VYgEMW-Kyhgc",
        "outputId": "9ae58184-9cdb-4726-9c8f-e13d881ac772"
      },
      "execution_count": 81,
      "outputs": [
        {
          "output_type": "stream",
          "name": "stdout",
          "text": [
            "3\n",
            "4\n",
            "5\n",
            "6\n",
            "7\n",
            "8\n",
            "9\n"
          ]
        }
      ]
    }
  ]
}