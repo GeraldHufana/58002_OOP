{
  "nbformat": 4,
  "nbformat_minor": 0,
  "metadata": {
    "colab": {
      "provenance": [],
      "authorship_tag": "ABX9TyPnTd8Ac24I/KKzEDZwT71l",
      "include_colab_link": true
    },
    "kernelspec": {
      "name": "python3",
      "display_name": "Python 3"
    },
    "language_info": {
      "name": "python"
    }
  },
  "cells": [
    {
      "cell_type": "markdown",
      "metadata": {
        "id": "view-in-github",
        "colab_type": "text"
      },
      "source": [
        "<a href=\"https://colab.research.google.com/github/GeraldHufana/58002_OOP/blob/main/function.ipynb\" target=\"_parent\"><img src=\"https://colab.research.google.com/assets/colab-badge.svg\" alt=\"Open In Colab\"/></a>"
      ]
    },
    {
      "cell_type": "code",
      "execution_count": null,
      "metadata": {
        "id": "T8JQx0kU0e45"
      },
      "outputs": [],
      "source": [
        "def remainder (n, m):\n",
        "  while True:\n",
        "    if n - m < 0:\n",
        "      return 0\n",
        "    else:\n",
        "      n = n - m\n",
        "    remainder (10,4)"
      ]
    },
    {
      "cell_type": "code",
      "source": [
        "class Shape:\n",
        "  def __init__(self, length, width):\n",
        "    self.length = length\n",
        "    self.width = width\n",
        "\n",
        "  def area_rec(self):\n",
        "    return self.length * self.width\n",
        "  #def area_sqr(self,side):\n",
        "   #return self.side * self.side\n",
        "\n",
        "rectangle = Shape(10,5)\n",
        "rectangle.area_rec()"
      ],
      "metadata": {
        "colab": {
          "base_uri": "https://localhost:8080/"
        },
        "id": "X0s_kvFT5Vts",
        "outputId": "81ff41da-67f2-4919-9c8c-7e4f8bbfc448"
      },
      "execution_count": null,
      "outputs": [
        {
          "output_type": "execute_result",
          "data": {
            "text/plain": [
              "50"
            ]
          },
          "metadata": {},
          "execution_count": 17
        }
      ]
    },
    {
      "cell_type": "markdown",
      "source": [
        "Create a function that will display your full name and name your class as person"
      ],
      "metadata": {
        "id": "W1Sb98JF3em1"
      }
    },
    {
      "cell_type": "code",
      "source": [
        "class Person:\n",
        "  def display_details():\n",
        "    name, age = \"Gerald F. Hufana\",18\n",
        "8\n",
        "\n",
        "\n",
        "    "
      ],
      "metadata": {
        "id": "63g7pzMn7hwT"
      },
      "execution_count": null,
      "outputs": []
    },
    {
      "cell_type": "code",
      "source": [
        "\n",
        "def name():\n",
        "  return \"Hufana Geralf F.\"\n",
        "print(\"My name is \" + name())\n",
        "\n"
      ],
      "metadata": {
        "colab": {
          "base_uri": "https://localhost:8080/",
          "height": 130
        },
        "id": "l9Q59QNG9lwj",
        "outputId": "4c3d01b7-c7bd-401f-a800-7e73d291578f"
      },
      "execution_count": null,
      "outputs": [
        {
          "output_type": "error",
          "ename": "SyntaxError",
          "evalue": "ignored",
          "traceback": [
            "\u001b[0;36m  File \u001b[0;32m\"<ipython-input-21-0ed086e15d82>\"\u001b[0;36m, line \u001b[0;32m5\u001b[0m\n\u001b[0;31m    def class():\u001b[0m\n\u001b[0m        ^\u001b[0m\n\u001b[0;31mSyntaxError\u001b[0m\u001b[0;31m:\u001b[0m invalid syntax\n"
          ]
        }
      ]
    }
  ]
}