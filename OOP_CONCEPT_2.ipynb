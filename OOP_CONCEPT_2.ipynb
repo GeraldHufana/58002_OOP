{
  "nbformat": 4,
  "nbformat_minor": 0,
  "metadata": {
    "colab": {
      "provenance": [],
      "name": "OOP CONCEPT 2",
      "authorship_tag": "ABX9TyPVX6+k5cDHGVe8NAqE+Rhl",
      "include_colab_link": true
    },
    "kernelspec": {
      "name": "python3",
      "display_name": "Python 3"
    },
    "language_info": {
      "name": "python"
    }
  },
  "cells": [
    {
      "cell_type": "markdown",
      "metadata": {
        "id": "view-in-github",
        "colab_type": "text"
      },
      "source": [
        "<a href=\"https://colab.research.google.com/github/GeraldHufana/58002_OOP/blob/main/OOP_CONCEPT_2.ipynb\" target=\"_parent\"><img src=\"https://colab.research.google.com/assets/colab-badge.svg\" alt=\"Open In Colab\"/></a>"
      ]
    },
    {
      "cell_type": "code",
      "execution_count": null,
      "metadata": {
        "colab": {
          "base_uri": "https://localhost:8080/"
        },
        "id": "xsdt63ha6tT5",
        "outputId": "4863b573-1b2d-4455-a23d-af375c3df084"
      },
      "outputs": [
        {
          "output_type": "stream",
          "name": "stdout",
          "text": [
            "the Eagleis the flying bird above the sky\n",
            "the Chicken is the non flying bird\n"
          ]
        }
      ],
      "source": [
        "class bird:\n",
        "  def __init__(self,bird_name):\n",
        "    self.bird_name = bird_name\n",
        "  def flying_bird(self):\n",
        "    print(f\"The {self.bird_name}is the flying bird above the sky\")\n",
        "  def non_flying_bird(self):\n",
        "    print(f\"The {self.bird_name} is the non flying bird\")\n",
        "\n",
        "\n",
        "eagle = bird(\"Eagle\")\n",
        "chicken = bird(\"Chicken\")\n",
        "eagle.flying_bird()\n",
        "chicken.non_flying_bird()\n",
        "\n",
        "\n",
        "\n",
        "  \n",
        "  \n"
      ]
    },
    {
      "cell_type": "code",
      "source": [],
      "metadata": {
        "id": "Nqe-o14uNi5M"
      },
      "execution_count": null,
      "outputs": []
    },
    {
      "cell_type": "markdown",
      "source": [
        "MANGLING WITH DOUBLE UNDERSCORE ( __ )"
      ],
      "metadata": {
        "id": "n65hR0ee71qI"
      }
    },
    {
      "cell_type": "code",
      "source": [],
      "metadata": {
        "id": "PaCydgYh7g-Y"
      },
      "execution_count": null,
      "outputs": []
    },
    {
      "cell_type": "code",
      "source": [
        "class foo:\n",
        "  def __init__(self,a,b):\n",
        "    self.a = a\n",
        "    self.b = b\n",
        "  def add(self):\n",
        "    return self.a+self.b\n",
        "foo_object = foo(3,4)\n",
        "foo_object.add()\n",
        "foo_object.a = 6\n",
        "foo_object.b = 7\n",
        "foo_object.add()"
      ],
      "metadata": {
        "colab": {
          "base_uri": "https://localhost:8080/"
        },
        "id": "RRXQwWtY8KZm",
        "outputId": "1d88d634-5ebf-4aa4-d72d-d11f7167290c"
      },
      "execution_count": null,
      "outputs": [
        {
          "output_type": "execute_result",
          "data": {
            "text/plain": [
              "13"
            ]
          },
          "metadata": {},
          "execution_count": 15
        }
      ]
    },
    {
      "cell_type": "code",
      "source": [
        "#Inheritance\\\n",
        "class Person:\n",
        "  def __init__(self,name,birthdate):\n",
        "    self.name = name\n",
        "    self.birthdate = birthdate\n",
        "  def display(self):\n",
        "    print(\"My name is\",self.name) \n",
        "    print(\"My birthdate is\",self.birthdate)\n",
        "class student(Person):\n",
        "  pass\n",
        "person = Person(\"Hufana\",\"December 13 2003\")\n",
        "person.display()\n",
        "\n",
        "student = student(\"Edwine\",\"february 31 2003\")\n",
        "student.display()\n",
        "\n",
        "\n",
        "\n",
        "\n",
        "\n"
      ],
      "metadata": {
        "colab": {
          "base_uri": "https://localhost:8080/"
        },
        "id": "LfPaucxCBHn4",
        "outputId": "6a3afdbd-b120-4486-ea69-76e5387d5778"
      },
      "execution_count": null,
      "outputs": [
        {
          "output_type": "stream",
          "name": "stdout",
          "text": [
            "My name is Hufana\n",
            "My birthdate is December 13 2003\n",
            "My name is Edwine\n",
            "My birthdate is february 31 2003\n"
          ]
        }
      ]
    },
    {
      "cell_type": "code",
      "source": [
        "# create a class name shape (5 shape)\n",
        "# attributes side\n",
        "# create a function/method that display the\n",
        "# no. of side of each shape\n",
        "# apply inheritance and encapsulation\n",
        "\n",
        "class shape:\n",
        "  def __init__(self,name_shape,side):\n",
        "   self.name_shape = name_shape\n",
        "   self.side = side\n",
        "  \n",
        "  def display(self):\n",
        "    print(\"The name of the shape is\",self.name_shape)\n",
        "    print(\"The no. of side is\",self.side)\n",
        "class side(shape):\n",
        "  pass\n",
        "class box(shape):\n",
        "  pass\n",
        "class octagon(shape):\n",
        "  pass\n",
        "class hexagon(shape):\n",
        "  pass\n",
        "class star(shape):\n",
        "  pass\n",
        "\n",
        "shape = shape(\"triagle\",\"3\")\n",
        "shape.display()\n",
        "\n",
        "box= box(\"box\",\"4\")\n",
        "box.display()\n",
        "\n",
        "octagon = octagon(\"octagon\",\"8\")\n",
        "octagon.display()\n",
        "\n",
        "hexagon = hexagon(\"hexagon\",\"6\")\n",
        "hexagon.display()\n",
        "\n",
        "star = star(\"star\",\"5\")\n",
        "star.display()\n",
        "\n",
        "\n",
        "\n",
        "\n",
        "\n",
        "  \n",
        "\n",
        "\n",
        "\n",
        "   \n",
        "\n",
        "\n"
      ],
      "metadata": {
        "colab": {
          "base_uri": "https://localhost:8080/"
        },
        "id": "VAuzy9GQEi5r",
        "outputId": "964dafee-2ba5-4a55-b3df-49d438c51ecd"
      },
      "execution_count": null,
      "outputs": [
        {
          "output_type": "stream",
          "name": "stdout",
          "text": [
            "The name of the shape is triagle\n",
            "The no. of side is 3\n",
            "The name of the shape is box\n",
            "The no. of side is 4\n",
            "The name of the shape is octagon\n",
            "The no. of side is 8\n",
            "The name of the shape is hexagon\n",
            "The no. of side is 6\n",
            "The name of the shape is star\n",
            "The no. of side is 5\n"
          ]
        }
      ]
    },
    {
      "cell_type": "code",
      "source": [],
      "metadata": {
        "id": "uhz7dGXGGLZT"
      },
      "execution_count": null,
      "outputs": []
    }
  ]
}