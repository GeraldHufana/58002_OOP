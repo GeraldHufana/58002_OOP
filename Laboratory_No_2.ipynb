{
  "nbformat": 4,
  "nbformat_minor": 0,
  "metadata": {
    "colab": {
      "provenance": [],
      "authorship_tag": "ABX9TyO59dvP/ik1V6caEw/FMhlV",
      "include_colab_link": true
    },
    "kernelspec": {
      "name": "python3",
      "display_name": "Python 3"
    },
    "language_info": {
      "name": "python"
    }
  },
  "cells": [
    {
      "cell_type": "markdown",
      "metadata": {
        "id": "view-in-github",
        "colab_type": "text"
      },
      "source": [
        "<a href=\"https://colab.research.google.com/github/GeraldHufana/58002_OOP/blob/main/Laboratory_No_2.ipynb\" target=\"_parent\"><img src=\"https://colab.research.google.com/assets/colab-badge.svg\" alt=\"Open In Colab\"/></a>"
      ]
    },
    {
      "cell_type": "code",
      "execution_count": 1,
      "metadata": {
        "colab": {
          "base_uri": "https://localhost:8080/"
        },
        "id": "v0ZmEXfo6JnQ",
        "outputId": "c3adafdc-beb0-45e4-8487-bd9aad08e024"
      },
      "outputs": [
        {
          "output_type": "stream",
          "name": "stdout",
          "text": [
            "Enter the radius of the circle: 3\n",
            "Perimeter: 18.849539999999998\n",
            "Area: 28.27431\n"
          ]
        }
      ],
      "source": [
        "class Circle:\n",
        "    def __init__(self, radius):\n",
        "        self.radius = radius\n",
        "        self.pi = 3.14159\n",
        "\n",
        "    def Perimeter(self):\n",
        "        return 2 * self.pi * self.radius\n",
        "\n",
        "    def Area(self):\n",
        "        return self.pi * self.radius ** 2\n",
        "\n",
        "    def Display(self):\n",
        "        print(\"Perimeter:\", self.Perimeter())\n",
        "        print(\"Area:\", self.Area())\n",
        "\n",
        "radius = float(input(\"Enter the radius of the circle: \"))\n",
        "c = Circle(radius)\n",
        "c.Display()"
      ]
    }
  ]
}