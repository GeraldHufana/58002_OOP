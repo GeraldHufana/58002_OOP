{
  "nbformat": 4,
  "nbformat_minor": 0,
  "metadata": {
    "colab": {
      "provenance": [],
      "authorship_tag": "ABX9TyNA2INL5ouwJS89ReN+N2ZO",
      "include_colab_link": true
    },
    "kernelspec": {
      "name": "python3",
      "display_name": "Python 3"
    },
    "language_info": {
      "name": "python"
    }
  },
  "cells": [
    {
      "cell_type": "markdown",
      "metadata": {
        "id": "view-in-github",
        "colab_type": "text"
      },
      "source": [
        "<a href=\"https://colab.research.google.com/github/GeraldHufana/58002_OOP/blob/main/Conditional_statement_is_python.ipynb\" target=\"_parent\"><img src=\"https://colab.research.google.com/assets/colab-badge.svg\" alt=\"Open In Colab\"/></a>"
      ]
    },
    {
      "cell_type": "code",
      "execution_count": null,
      "metadata": {
        "id": "3rvxc4JGkjoG"
      },
      "outputs": [],
      "source": []
    },
    {
      "cell_type": "markdown",
      "source": [
        "IF STATEMENT"
      ],
      "metadata": {
        "id": "MDh4GgUCkwG9"
      }
    },
    {
      "cell_type": "code",
      "source": [
        "a = 12\n",
        "b = 100\n",
        "if b>a:\n",
        "  print('a is greater than b')"
      ],
      "metadata": {
        "colab": {
          "base_uri": "https://localhost:8080/"
        },
        "id": "dzK9JJjSky70",
        "outputId": "34d76f68-ee54-4ea5-ffd2-fb0db9eafc67"
      },
      "execution_count": 3,
      "outputs": [
        {
          "output_type": "stream",
          "name": "stdout",
          "text": [
            "a is greater than b\n"
          ]
        }
      ]
    },
    {
      "cell_type": "code",
      "source": [
        "#elif statement\n",
        "a=100\n",
        "b=500 \n",
        "if a>b:\n",
        "  print(\"a is greater than b\")\n",
        "elif a<b:\n",
        "  print(\"is less than b\")\n",
        "else:\n",
        "  print(\"a is equal to b\")"
      ],
      "metadata": {
        "colab": {
          "base_uri": "https://localhost:8080/"
        },
        "id": "j4lu7UeOlYT8",
        "outputId": "2ea583ff-8775-4178-cf7c-c591ad07ea6b"
      },
      "execution_count": 10,
      "outputs": [
        {
          "output_type": "stream",
          "name": "stdout",
          "text": [
            "is less than b\n"
          ]
        }
      ]
    },
    {
      "cell_type": "code",
      "source": [
        "#short hand if statement\n",
        "\n",
        "if a==b: print(\"a is greater than b\")"
      ],
      "metadata": {
        "id": "J6HQTh5lmjK0"
      },
      "execution_count": 13,
      "outputs": []
    },
    {
      "cell_type": "code",
      "source": [
        "#short hand if.. else\n",
        "\n",
        "print(\"a is greater than b\")if a>b else print(\"a is greater than b\")"
      ],
      "metadata": {
        "colab": {
          "base_uri": "https://localhost:8080/"
        },
        "id": "mks6lgA_mhS1",
        "outputId": "d0f33c7f-267d-4f47-d579-52a74b9503e2"
      },
      "execution_count": 14,
      "outputs": [
        {
          "output_type": "stream",
          "name": "stdout",
          "text": [
            "a is greater than b\n"
          ]
        }
      ]
    },
    {
      "cell_type": "code",
      "source": [
        "#boh condition are true\n",
        "\n",
        "a=500\n",
        "b=33\n",
        "c=300\n",
        "if a>b and a>c:\n",
        "  print(\"both condition are True\")"
      ],
      "metadata": {
        "colab": {
          "base_uri": "https://localhost:8080/"
        },
        "id": "RmYQrBIWnoOs",
        "outputId": "c211bc90-a1ce-4040-aef8-71ba0b71a51e"
      },
      "execution_count": 21,
      "outputs": [
        {
          "output_type": "stream",
          "name": "stdout",
          "text": [
            "both condition are True\n"
          ]
        }
      ]
    },
    {
      "cell_type": "code",
      "source": [
        "#or at \n",
        "\n",
        "a=200\n",
        "b=33\n",
        "c=500\n",
        "if a>b or a>c:\n",
        "  print(\"at least one of the condition is true\")"
      ],
      "metadata": {
        "colab": {
          "base_uri": "https://localhost:8080/"
        },
        "id": "_IO7kJksohTr",
        "outputId": "8182ad9b-b220-4ec5-be07-c7d42a3fd5cd"
      },
      "execution_count": 22,
      "outputs": [
        {
          "output_type": "stream",
          "name": "stdout",
          "text": [
            "at least one of the condition is true\n"
          ]
        }
      ]
    },
    {
      "cell_type": "code",
      "source": [
        "#and condition\n",
        "a=45\n",
        "b=100\n",
        " if a>b and a<b:\n",
        "   print()\n",
        "\n"
      ],
      "metadata": {
        "id": "kJFMmgy9o2mT"
      },
      "execution_count": null,
      "outputs": []
    },
    {
      "cell_type": "code",
      "source": [
        "#nested if\n",
        "\n",
        "x=41\n",
        "\n",
        "if x>10:\n",
        "  print(\"above ten,\")\n",
        "if x>20:\n",
        "  print(\"and also above 20!\")\n",
        "else:\n",
        "  print(\"but not above 20.\")\n",
        "\n",
        "\n"
      ],
      "metadata": {
        "colab": {
          "base_uri": "https://localhost:8080/"
        },
        "id": "2cs0ywOcpZOr",
        "outputId": "15025214-1a02-44ec-f70b-a6f98ef3bf62"
      },
      "execution_count": 23,
      "outputs": [
        {
          "output_type": "stream",
          "name": "stdout",
          "text": [
            "above ten,\n",
            "and also above 20!\n"
          ]
        }
      ]
    },
    {
      "cell_type": "code",
      "source": [
        "x = int(int(input))\n",
        "\n",
        "f x>10:\n",
        "  print(\"above 10\")\n",
        "  if x>20:\n",
        "    print(\"also above 20\")\n",
        "    if x>30:\n",
        "      print(\"also above 30\")\n",
        "      if x>40:\n",
        "        print(\"also above 40\")\n",
        "        if x>50:\n",
        "          print(\"also above 50\")\n",
        "        else:\n",
        "          print(\"below 50\")\n",
        "      else:\n",
        "        print(\"below 40\")\n",
        "    else:\n",
        "      print(\"below 30\")\n",
        "  else:\n",
        "    print(\"below 20\")\n",
        "else:\n",
        "  print(\"below 10\")\n",
        "\n",
        "\n",
        "         \n",
        "         \n",
        "\n",
        "         \n",
        "         \n",
        "\n",
        "            \n",
        "      \n",
        "\n",
        "  \n"
      ],
      "metadata": {
        "colab": {
          "base_uri": "https://localhost:8080/",
          "height": 235
        },
        "id": "rse-nwNMqHuL",
        "outputId": "6485c7f1-5882-4ce0-f257-7e3825ec5b8f"
      },
      "execution_count": 29,
      "outputs": [
        {
          "output_type": "error",
          "ename": "TypeError",
          "evalue": "ignored",
          "traceback": [
            "\u001b[0;31m---------------------------------------------------------------------------\u001b[0m",
            "\u001b[0;31mTypeError\u001b[0m                                 Traceback (most recent call last)",
            "\u001b[0;32m<ipython-input-29-bb3dfb6add55>\u001b[0m in \u001b[0;36m<module>\u001b[0;34m\u001b[0m\n\u001b[0;32m----> 1\u001b[0;31m \u001b[0mx\u001b[0m \u001b[0;34m=\u001b[0m \u001b[0mint\u001b[0m\u001b[0;34m(\u001b[0m\u001b[0mint\u001b[0m\u001b[0;34m(\u001b[0m\u001b[0minput\u001b[0m\u001b[0;34m)\u001b[0m\u001b[0;34m)\u001b[0m\u001b[0;34m\u001b[0m\u001b[0;34m\u001b[0m\u001b[0m\n\u001b[0m\u001b[1;32m      2\u001b[0m \u001b[0;32mif\u001b[0m \u001b[0mx\u001b[0m\u001b[0;34m>\u001b[0m\u001b[0;36m10\u001b[0m\u001b[0;34m:\u001b[0m\u001b[0;34m\u001b[0m\u001b[0;34m\u001b[0m\u001b[0m\n\u001b[1;32m      3\u001b[0m   \u001b[0mprint\u001b[0m\u001b[0;34m(\u001b[0m\u001b[0;34m\"above 10\"\u001b[0m\u001b[0;34m)\u001b[0m\u001b[0;34m\u001b[0m\u001b[0;34m\u001b[0m\u001b[0m\n\u001b[1;32m      4\u001b[0m   \u001b[0;32mif\u001b[0m \u001b[0mx\u001b[0m\u001b[0;34m>\u001b[0m\u001b[0;36m20\u001b[0m\u001b[0;34m:\u001b[0m\u001b[0;34m\u001b[0m\u001b[0;34m\u001b[0m\u001b[0m\n\u001b[1;32m      5\u001b[0m     \u001b[0mprint\u001b[0m\u001b[0;34m(\u001b[0m\u001b[0;34m\"also above 20\"\u001b[0m\u001b[0;34m)\u001b[0m\u001b[0;34m\u001b[0m\u001b[0;34m\u001b[0m\u001b[0m\n",
            "\u001b[0;31mTypeError\u001b[0m: int() argument must be a string, a bytes-like object or a number, not 'method'"
          ]
        }
      ]
    },
    {
      "cell_type": "code",
      "source": [
        "#example 1\n",
        "name = input(\"Enter your name here \")\n",
        "age = int(input(\"Enter your age here\"))\n",
        "if x<=18:\n",
        "  print(\"qualified\")\n",
        "else:\n",
        "  print(\"not qualified\")\n",
        "\n",
        "  \n"
      ],
      "metadata": {
        "colab": {
          "base_uri": "https://localhost:8080/"
        },
        "id": "Mj7bPx90uXmC",
        "outputId": "ac793e7b-7b52-40e5-cb88-2fe04265c1be"
      },
      "execution_count": 43,
      "outputs": [
        {
          "output_type": "stream",
          "name": "stdout",
          "text": [
            "Enter your name here gerald\n",
            "Enter your age here13\n",
            "not qualified\n"
          ]
        }
      ]
    },
    {
      "cell_type": "code",
      "source": [
        "#example 2\n",
        "number = float(input(\"Enter a number\"))\n",
        "\n",
        "if x==0:\n",
        "  print(\"Zero\")\n",
        "elif x>1:\n",
        "  print(\"negative\")\n",
        "else:\n",
        "  print(\"positve\")"
      ],
      "metadata": {
        "colab": {
          "base_uri": "https://localhost:8080/"
        },
        "id": "PkkqYD-5xvZw",
        "outputId": "2bb34d33-1217-466e-e66f-ab29d4d95e4d"
      },
      "execution_count": 44,
      "outputs": [
        {
          "output_type": "stream",
          "name": "stdout",
          "text": [
            "Enter a number13\n",
            "negative\n"
          ]
        }
      ]
    },
    {
      "cell_type": "code",
      "source": [
        "#example 3\n",
        "\n",
        "grades = int(input(\"enter your grade\"))\n",
        "if grades<=0:\n",
        "  print(\"grade is invalid\")\n",
        "if grades>=70:\n",
        "  print(\"Passed\")\n",
        "elif grades<=65 and grades>=69:\n",
        "  print(\"Remedial\")\n",
        "else:\n",
        "  print(\"Failed\")\n",
        "\n",
        "\n",
        "\n"
      ],
      "metadata": {
        "colab": {
          "base_uri": "https://localhost:8080/"
        },
        "id": "xm_AqHcsy6Qn",
        "outputId": "4e68a745-3ba3-4d84-dd3a-db47dd242b30"
      },
      "execution_count": 55,
      "outputs": [
        {
          "output_type": "stream",
          "name": "stdout",
          "text": [
            "enter your grade64\n",
            "Failed\n"
          ]
        }
      ]
    },
    {
      "cell_type": "code",
      "source": [],
      "metadata": {
        "id": "66cUf4marURy"
      },
      "execution_count": null,
      "outputs": []
    }
  ]
}