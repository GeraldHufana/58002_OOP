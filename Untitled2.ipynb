{
  "nbformat": 4,
  "nbformat_minor": 0,
  "metadata": {
    "colab": {
      "provenance": [],
      "authorship_tag": "ABX9TyPexnwieFSQYXJ3tR7kUw1M",
      "include_colab_link": true
    },
    "kernelspec": {
      "name": "python3",
      "display_name": "Python 3"
    },
    "language_info": {
      "name": "python"
    }
  },
  "cells": [
    {
      "cell_type": "markdown",
      "metadata": {
        "id": "view-in-github",
        "colab_type": "text"
      },
      "source": [
        "<a href=\"https://colab.research.google.com/github/GeraldHufana/58002_OOP/blob/main/Untitled2.ipynb\" target=\"_parent\"><img src=\"https://colab.research.google.com/assets/colab-badge.svg\" alt=\"Open In Colab\"/></a>"
      ]
    },
    {
      "cell_type": "markdown",
      "source": [
        "HANDS ON #1\n",
        "\n",
        "CREATE A PYTHON PROGRAM THAT DISPLAY THE NAME OF THE THREE STUDENT (STUDENT 1, STUDENT 2, STUDENT 3) AND THE TERM GRADES\n",
        "\n",
        "CREATE A CLASS NAME PERSON AND ATTRIBUTES - std1, std2, std3, pre,mid,fin\n",
        "\n",
        "COMPUTE THE AVERAGE OF EACH TERMS GRADE USING() METHOD\n",
        "\n",
        "INFORMATION ABOUT STUDENT GRADES MUST BE HIDDEN FROM THE OTHERS "
      ],
      "metadata": {
        "id": "uRErNGjK_ptj"
      }
    },
    {
      "cell_type": "code",
      "source": [
        "class Person:\n",
        "  def __init__(self, std1, std2, std3, pre, mid, fin):\n",
        "    self.__std1 = std1\n",
        "    self.__std2 = std2\n",
        "    self.__std3 = std3\n",
        "    self.__pre = pre\n",
        "    self.__mid = mid\n",
        "    self.__fin = fin\n",
        "\n",
        "  def Grade(self):\n",
        "    return(self.__pre + self.__mid + self.__fin)/3\n",
        "\n",
        "  def display(self):\n",
        "    print(\"name of the student\", self.__std1)\n",
        "    print(\"name of the student\", self.__std2)\n",
        "    print(\"name of the student\", self.__std3)\n",
        "    \n",
        "    class \n",
        "\n"
      ],
      "metadata": {
        "id": "-cS6tjUvXiu6"
      },
      "execution_count": 17,
      "outputs": []
    }
  ]
}